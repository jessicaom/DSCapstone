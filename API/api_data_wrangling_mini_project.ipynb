{
 "cells": [
  {
   "cell_type": "markdown",
   "metadata": {},
   "source": [
    "This exercise will require you to pull some data from the Qunadl API. Qaundl is currently the most widely used aggregator of financial market data."
   ]
  },
  {
   "cell_type": "markdown",
   "metadata": {},
   "source": [
    "As a first step, you will need to register a free account on the http://www.quandl.com website."
   ]
  },
  {
   "cell_type": "markdown",
   "metadata": {},
   "source": [
    "After you register, you will be provided with a unique API key, that you should store:"
   ]
  },
  {
   "cell_type": "code",
   "execution_count": 1,
   "metadata": {},
   "outputs": [],
   "source": [
    "# Store the API key as a string - according to PEP8, constants are always named in all upper case\n",
    "API_KEY = '1q-MfL9fArL6E-bVDib2'"
   ]
  },
  {
   "cell_type": "markdown",
   "metadata": {},
   "source": [
    "Qaundl has a large number of data sources, but, unfortunately, most of them require a Premium subscription. Still, there are also a good number of free datasets."
   ]
  },
  {
   "cell_type": "markdown",
   "metadata": {},
   "source": [
    "For this mini project, we will focus on equities data from the Frankfurt Stock Exhange (FSE), which is available for free. We'll try and analyze the stock prices of a company called Carl Zeiss Meditec, which manufactures tools for eye examinations, as well as medical lasers for laser eye surgery: https://www.zeiss.com/meditec/int/home.html. The company is listed under the stock ticker AFX_X."
   ]
  },
  {
   "cell_type": "markdown",
   "metadata": {},
   "source": [
    "You can find the detailed Quandl API instructions here: https://docs.quandl.com/docs/time-series"
   ]
  },
  {
   "cell_type": "markdown",
   "metadata": {},
   "source": [
    "While there is a dedicated Python package for connecting to the Quandl API, we would prefer that you use the *requests* package, which can be easily downloaded using *pip* or *conda*. You can find the documentation for the package here: http://docs.python-requests.org/en/master/ "
   ]
  },
  {
   "cell_type": "markdown",
   "metadata": {},
   "source": [
    "Finally, apart from the *requests* package, you are encouraged to not use any third party Python packages, such as *pandas*, and instead focus on what's available in the Python Standard Library (the *collections* module might come in handy: https://pymotw.com/3/collections/ ).\n",
    "Also, since you won't have access to DataFrames, you are encouraged to us Python's native data structures - preferably dictionaries, though some questions can also be answered using lists.\n",
    "You can read more on these data structures here: https://docs.python.org/3/tutorial/datastructures.html"
   ]
  },
  {
   "cell_type": "markdown",
   "metadata": {},
   "source": [
    "Keep in mind that the JSON responses you will be getting from the API map almost one-to-one to Python's dictionaries. Unfortunately, they can be very nested, so make sure you read up on indexing dictionaries in the documentation provided above."
   ]
  },
  {
   "cell_type": "code",
   "execution_count": 2,
   "metadata": {},
   "outputs": [],
   "source": [
    "# First, import the relevant modules\n",
    "import json\n",
    "import requests\n"
   ]
  },
  {
   "cell_type": "code",
   "execution_count": 3,
   "metadata": {
    "scrolled": true
   },
   "outputs": [
    {
     "name": "stdout",
     "output_type": "stream",
     "text": [
      "{'dataset': {'id': 46157305, 'dataset_code': 'AGB2_UADJ', 'database_code': 'XFRA', 'name': 'Agrana Beteiligungs AG (AGB2) Unadjusted Stock Prices', 'description': ' <b>Ticker</b>: AGB2 <br> <br> <b>Exchange</b>: XFRA <br> <br> Columns: <br> <br> Open,High,Low,Close,Volume are unadjusted and shown in EUR currency. <br> <br> Adjustment Factor shows the factor by which prices are adjusted on days which adjustments take place <br> <br> Adjustment Type is a number representing the type of adjustment. Refer to documentation for more information on these codes.', 'refreshed_at': '2021-04-16T02:20:46.344Z', 'newest_available_date': '2018-11-30', 'oldest_available_date': '2007-01-02', 'column_names': ['Date', 'Open', 'High', 'Low', 'Close', 'Volume', 'Adjustment Factor', 'Adjustment Type'], 'frequency': 'daily', 'type': 'Time Series', 'premium': True, 'limit': None, 'transform': None, 'column_index': None, 'start_date': '2017-01-20', 'end_date': '2017-01-20', 'data': [['2017-01-20', 120.554, 120.554, 120.554, 120.554, 0.0, None, None]], 'collapse': None, 'order': None, 'database_id': 15302}}\n"
     ]
    }
   ],
   "source": [
    "# Now, call the Quandl API and pull out a small sample of the data (only one day) to get a glimpse\n",
    "# into the JSON structure that will be returned\n",
    "# Inspect the JSON structure of the object you created, and take note of how nested it is,\n",
    "# as well as the overall structure\n",
    "\n",
    "query = {'start_date':'2017-01-20', 'end_date':'2017-01-20'}\n",
    "response = requests.get('https://www.quandl.com/api/v3/datasets/XFRA/AGB2_UADJ.json?api_key=1q-MfL9fArL6E-bVDib2', params=query)\n",
    "print(response.json())\n"
   ]
  },
  {
   "cell_type": "markdown",
   "metadata": {},
   "source": [
    "These are your tasks for this mini project:\n",
    "\n",
    "1. Collect data from the Franfurt Stock Exchange, for the ticker AFX_X, for the whole year 2017 (keep in mind that the date format is YYYY-MM-DD).\n",
    "2. Convert the returned JSON object into a Python dictionary.\n",
    "3. Calculate what the highest and lowest opening prices were for the stock in this period.\n",
    "4. What was the largest change in any one day (based on High and Low price)?\n",
    "5. What was the largest change between any two days (based on Closing Price)?\n",
    "6. What was the average daily trading volume during this year?\n",
    "7. (Optional) What was the median trading volume during this year. (Note: you may need to implement your own function for calculating the median.)"
   ]
  },
  {
   "cell_type": "code",
   "execution_count": 4,
   "metadata": {},
   "outputs": [
    {
     "name": "stdout",
     "output_type": "stream",
     "text": [
      "<Response [200]>\n"
     ]
    }
   ],
   "source": [
    "#Collect data from the Franfurt Stock Exchange, \n",
    "#for the ticker AGB2_UADJ, for the whole year 2017 (keep in mind that the date format is YYYY-MM-DD).\n",
    "query = {'start_date':'2017-01-01', 'end_date':'2017-12-31'}\n",
    "r = requests.get('https://www.quandl.com/api/v3/datasets/XFRA/AGB2_UADJ.json?api_key=1q-MfL9fArL6E-bVDib2', params = query)\n",
    "print(r)\n"
   ]
  },
  {
   "cell_type": "code",
   "execution_count": 5,
   "metadata": {},
   "outputs": [
    {
     "name": "stdout",
     "output_type": "stream",
     "text": [
      "Type <class 'dict'>\n"
     ]
    }
   ],
   "source": [
    "#Convert the returned JSON object into a Python dictionary.\n",
    "response = r.json()\n",
    "print('Type',type(response))"
   ]
  },
  {
   "cell_type": "code",
   "execution_count": 6,
   "metadata": {},
   "outputs": [
    {
     "name": "stdout",
     "output_type": "stream",
     "text": [
      "The highest opening price for the stock in this period is :   $ 126.0\n",
      "The lowest opening price for the stock in this period is :    $ 91.0\n"
     ]
    }
   ],
   "source": [
    "#Calculate what the highest and lowest opening prices were for the stock in this period.\n",
    "\n",
    "s = response['dataset']['data']\n",
    "opening_prices = [value[1] for value in s]\n",
    "print (\"The highest opening price for the stock in this period is :   $\",max(opening_prices))\n",
    "print (\"The lowest opening price for the stock in this period is :    $\", min(opening_prices))"
   ]
  },
  {
   "cell_type": "code",
   "execution_count": 7,
   "metadata": {},
   "outputs": [
    {
     "name": "stdout",
     "output_type": "stream",
     "text": [
      "The largest change in any one day is :   $ 11.358000000000004\n"
     ]
    }
   ],
   "source": [
    "#What was the largest change in any one day (based on High and Low price)?\n",
    "change_in_prices = [value[2]-value[3] for value in s]\n",
    "print(\"The largest change in any one day is :   $\", max(change_in_prices))"
   ]
  },
  {
   "cell_type": "code",
   "execution_count": 8,
   "metadata": {},
   "outputs": [
    {
     "name": "stdout",
     "output_type": "stream",
     "text": [
      "The largest change between any two days is :    $ 35.788\n"
     ]
    }
   ],
   "source": [
    "#What was the largest change between any two days (based on Closing Price)?\n",
    "closing_prices = [value[4] for value in s]\n",
    "print (\"The largest change between any two days is :    $\", max(closing_prices)-min(closing_prices))"
   ]
  },
  {
   "cell_type": "code",
   "execution_count": 9,
   "metadata": {},
   "outputs": [
    {
     "name": "stdout",
     "output_type": "stream",
     "text": [
      "The average daily trading volume during this year is :  131.3576923076923\n"
     ]
    }
   ],
   "source": [
    "#What was the average daily trading volume during this year?\n",
    "daily_trading_volume = [value[5] for value in s]\n",
    "averge_daily_trading_volume = sum(daily_trading_volume)/len(daily_trading_volume)\n",
    "print (\"The average daily trading volume during this year is : \",averge_daily_trading_volume)"
   ]
  },
  {
   "cell_type": "code",
   "execution_count": 10,
   "metadata": {},
   "outputs": [
    {
     "name": "stdout",
     "output_type": "stream",
     "text": [
      "The median trading volume during this year is :  50.0\n"
     ]
    }
   ],
   "source": [
    "#What was the median trading volume during this year.\n",
    "daily_trading_volume.sort()\n",
    "mid = len(daily_trading_volume) // 2\n",
    "result = (daily_trading_volume[mid] + daily_trading_volume[mid+1]) / 2\n",
    "  \n",
    "# Printing result\n",
    "print(\"The median trading volume during this year is : \", result)"
   ]
  }
 ],
 "metadata": {
  "kernelspec": {
   "display_name": "Python 3",
   "language": "python",
   "name": "python3"
  },
  "language_info": {
   "codemirror_mode": {
    "name": "ipython",
    "version": 3
   },
   "file_extension": ".py",
   "mimetype": "text/x-python",
   "name": "python",
   "nbconvert_exporter": "python",
   "pygments_lexer": "ipython3",
   "version": "3.9.2"
  }
 },
 "nbformat": 4,
 "nbformat_minor": 2
}
